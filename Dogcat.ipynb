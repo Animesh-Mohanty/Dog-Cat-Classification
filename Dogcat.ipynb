{
 "cells": [
  {
   "cell_type": "code",
   "execution_count": 1,
   "id": "701c4318-313c-49dd-a7f3-0e4b83a33eb9",
   "metadata": {},
   "outputs": [],
   "source": [
    "import tensorflow as tf\n",
    "from tensorflow.keras.preprocessing.image import load_img,img_to_array,array_to_img\n",
    "import os\n",
    "import numpy as np\n",
    "from sklearn.model_selection import train_test_split"
   ]
  },
  {
   "cell_type": "code",
   "execution_count": 2,
   "id": "42cfb09a-f958-428d-9083-3193c5638539",
   "metadata": {},
   "outputs": [],
   "source": [
    "def readimg(pat):\n",
    "    img = load_img(pat,target_size=(128,128))\n",
    "    x = img_to_array(img)\n",
    "    x=x/255.0\n",
    "    return x"
   ]
  },
  {
   "cell_type": "code",
   "execution_count": 3,
   "id": "e5cd7f1c-518e-4f66-a9bd-1059b571a0aa",
   "metadata": {},
   "outputs": [],
   "source": [
    "pathstest = 'test\\\\'\n",
    "pathtrain = 'train\\\\'"
   ]
  },
  {
   "cell_type": "code",
   "execution_count": 4,
   "id": "0ab72359-4dc0-448f-8e4d-47d3efcaaa6a",
   "metadata": {},
   "outputs": [
    {
     "name": "stdout",
     "output_type": "stream",
     "text": [
      "All done\n"
     ]
    }
   ],
   "source": [
    "x = []\n",
    "y = []\n",
    "yname = ['cat','dog']\n",
    "for name in os.listdir(pathtrain):\n",
    "    namepath = os.path.join(pathtrain,name)\n",
    "    for imgname in os.listdir(namepath):\n",
    "        imgp = os.path.join(namepath,imgname)\n",
    "        img =readimg(imgp)\n",
    "        x.append(img)\n",
    "        if name=='cats':\n",
    "            y.append(0)\n",
    "        else:\n",
    "            y.append(1)\n",
    "print(\"All done\")"
   ]
  },
  {
   "cell_type": "code",
   "execution_count": 5,
   "id": "3fb3c7e9-664d-4b32-a613-1134462e2e62",
   "metadata": {},
   "outputs": [],
   "source": [
    "x = np.array(x)\n",
    "y = np.array(y)"
   ]
  },
  {
   "cell_type": "code",
   "execution_count": 6,
   "id": "cf1efbcf-b47f-44b8-b873-512e48e4ee76",
   "metadata": {},
   "outputs": [],
   "source": [
    "xtrain,xtest,ytrain,ytest = train_test_split(x,y,test_size=0.2)"
   ]
  },
  {
   "cell_type": "code",
   "execution_count": 7,
   "id": "dfecd257-1ecc-465a-b1f9-97f1d2fccdde",
   "metadata": {},
   "outputs": [],
   "source": [
    "from tensorflow.keras.utils import to_categorical\n",
    "from tensorflow.keras.models import Sequential\n",
    "from tensorflow.keras.layers import Conv2D, MaxPooling2D, Flatten, Dense, Dropout\n",
    "from tensorflow.keras.optimizers import Adam"
   ]
  },
  {
   "cell_type": "code",
   "execution_count": 8,
   "id": "d9406320-6f00-44d9-8204-e06f08b5da7b",
   "metadata": {},
   "outputs": [
    {
     "name": "stderr",
     "output_type": "stream",
     "text": [
      "C:\\Users\\anime\\AppData\\Roaming\\Python\\Python312\\site-packages\\keras\\src\\layers\\convolutional\\base_conv.py:113: UserWarning: Do not pass an `input_shape`/`input_dim` argument to a layer. When using Sequential models, prefer using an `Input(shape)` object as the first layer in the model instead.\n",
      "  super().__init__(activity_regularizer=activity_regularizer, **kwargs)\n"
     ]
    }
   ],
   "source": [
    "model = Sequential([\n",
    "    Conv2D(32,(3,3),activation='relu',padding='same',input_shape=(128,128,3)),\n",
    "    MaxPooling2D(pool_size=(2,2)),\n",
    "    Dropout(0.15),\n",
    "    Conv2D(64,(3,3),activation='relu',padding='same'),\n",
    "    MaxPooling2D(pool_size=(2,2)),\n",
    "    Dropout(0.20),\n",
    "    Flatten(),\n",
    "    Dense(64, activation='relu'),\n",
    "    Dropout(0.5),\n",
    "    Dense(1,activation='sigmoid')\n",
    "])"
   ]
  },
  {
   "cell_type": "code",
   "execution_count": 9,
   "id": "88967bad-7e7f-4051-8368-02e0b55b7ea5",
   "metadata": {},
   "outputs": [
    {
     "name": "stdout",
     "output_type": "stream",
     "text": [
      "Epoch 1/10\n",
      "\u001b[1m500/500\u001b[0m \u001b[32m━━━━━━━━━━━━━━━━━━━━\u001b[0m\u001b[37m\u001b[0m \u001b[1m130s\u001b[0m 254ms/step - accuracy: 0.5858 - loss: 0.7098 - val_accuracy: 0.7163 - val_loss: 0.5663\n",
      "Epoch 2/10\n",
      "\u001b[1m500/500\u001b[0m \u001b[32m━━━━━━━━━━━━━━━━━━━━\u001b[0m\u001b[37m\u001b[0m \u001b[1m129s\u001b[0m 258ms/step - accuracy: 0.7205 - loss: 0.5504 - val_accuracy: 0.7563 - val_loss: 0.5126\n",
      "Epoch 3/10\n",
      "\u001b[1m500/500\u001b[0m \u001b[32m━━━━━━━━━━━━━━━━━━━━\u001b[0m\u001b[37m\u001b[0m \u001b[1m128s\u001b[0m 256ms/step - accuracy: 0.7601 - loss: 0.4948 - val_accuracy: 0.7763 - val_loss: 0.4663\n",
      "Epoch 4/10\n",
      "\u001b[1m500/500\u001b[0m \u001b[32m━━━━━━━━━━━━━━━━━━━━\u001b[0m\u001b[37m\u001b[0m \u001b[1m126s\u001b[0m 252ms/step - accuracy: 0.7904 - loss: 0.4475 - val_accuracy: 0.7793 - val_loss: 0.4674\n",
      "Epoch 5/10\n",
      "\u001b[1m500/500\u001b[0m \u001b[32m━━━━━━━━━━━━━━━━━━━━\u001b[0m\u001b[37m\u001b[0m \u001b[1m128s\u001b[0m 257ms/step - accuracy: 0.8178 - loss: 0.4058 - val_accuracy: 0.7952 - val_loss: 0.4504\n",
      "Epoch 6/10\n",
      "\u001b[1m500/500\u001b[0m \u001b[32m━━━━━━━━━━━━━━━━━━━━\u001b[0m\u001b[37m\u001b[0m \u001b[1m131s\u001b[0m 261ms/step - accuracy: 0.8422 - loss: 0.3593 - val_accuracy: 0.8002 - val_loss: 0.4589\n",
      "Epoch 7/10\n",
      "\u001b[1m500/500\u001b[0m \u001b[32m━━━━━━━━━━━━━━━━━━━━\u001b[0m\u001b[37m\u001b[0m \u001b[1m137s\u001b[0m 273ms/step - accuracy: 0.8622 - loss: 0.3099 - val_accuracy: 0.8050 - val_loss: 0.4701\n",
      "Epoch 8/10\n",
      "\u001b[1m500/500\u001b[0m \u001b[32m━━━━━━━━━━━━━━━━━━━━\u001b[0m\u001b[37m\u001b[0m \u001b[1m135s\u001b[0m 269ms/step - accuracy: 0.8799 - loss: 0.2760 - val_accuracy: 0.8025 - val_loss: 0.4769\n",
      "Epoch 9/10\n",
      "\u001b[1m500/500\u001b[0m \u001b[32m━━━━━━━━━━━━━━━━━━━━\u001b[0m\u001b[37m\u001b[0m \u001b[1m140s\u001b[0m 265ms/step - accuracy: 0.8987 - loss: 0.2433 - val_accuracy: 0.8090 - val_loss: 0.4970\n",
      "Epoch 10/10\n",
      "\u001b[1m500/500\u001b[0m \u001b[32m━━━━━━━━━━━━━━━━━━━━\u001b[0m\u001b[37m\u001b[0m \u001b[1m144s\u001b[0m 270ms/step - accuracy: 0.9147 - loss: 0.2099 - val_accuracy: 0.8030 - val_loss: 0.5035\n"
     ]
    },
    {
     "data": {
      "text/plain": [
       "<keras.src.callbacks.history.History at 0x1d11627daf0>"
      ]
     },
     "execution_count": 9,
     "metadata": {},
     "output_type": "execute_result"
    }
   ],
   "source": [
    "model.compile(optimizer='adam', loss='binary_crossentropy', metrics=['accuracy'])\n",
    "model.fit(xtrain, ytrain, epochs=10, batch_size=32, validation_data=(xtest, ytest))"
   ]
  },
  {
   "cell_type": "code",
   "execution_count": 13,
   "id": "5801e4d3-8401-4b69-a1b0-49a088d0a6b4",
   "metadata": {},
   "outputs": [
    {
     "name": "stdout",
     "output_type": "stream",
     "text": [
      "\u001b[1m125/125\u001b[0m \u001b[32m━━━━━━━━━━━━━━━━━━━━\u001b[0m\u001b[37m\u001b[0m \u001b[1m6s\u001b[0m 48ms/step\n",
      "0.803\n"
     ]
    }
   ],
   "source": [
    "ypredp = model.predict(xtest)\n",
    "ytrue = ytest  \n",
    "ypred = (ypredp > 0.5).astype(int)\n",
    "from sklearn.metrics import accuracy_score\n",
    "accuracy = accuracy_score(ytrue, ypred)\n",
    "print(accuracy)"
   ]
  },
  {
   "cell_type": "code",
   "execution_count": 16,
   "id": "94965988-afd6-48a9-ab56-976be418ec41",
   "metadata": {},
   "outputs": [],
   "source": [
    "\n",
    "model.save('cat_dog_model.keras')\n"
   ]
  },
  {
   "cell_type": "code",
   "execution_count": null,
   "id": "5eadd5e8-bdb1-4fa4-9e7e-1b8f9dc60968",
   "metadata": {},
   "outputs": [],
   "source": [
    "from tensorflow.keras.models import load_model\n",
    "\n",
    "model = load_model('cat_dog_model.keras')\n"
   ]
  }
 ],
 "metadata": {
  "kernelspec": {
   "display_name": "Python 3 (ipykernel)",
   "language": "python",
   "name": "python3"
  },
  "language_info": {
   "codemirror_mode": {
    "name": "ipython",
    "version": 3
   },
   "file_extension": ".py",
   "mimetype": "text/x-python",
   "name": "python",
   "nbconvert_exporter": "python",
   "pygments_lexer": "ipython3",
   "version": "3.12.7"
  }
 },
 "nbformat": 4,
 "nbformat_minor": 5
}
